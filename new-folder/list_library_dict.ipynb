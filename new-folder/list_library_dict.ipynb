{
 "cells": [
  {
   "cell_type": "code",
   "execution_count": 9,
   "metadata": {},
   "outputs": [
    {
     "name": "stdout",
     "output_type": "stream",
     "text": [
      "10 8 5\n"
     ]
    }
   ],
   "source": [
    "a = int(input(\"enter a : \"))\n",
    "b = int(input(\"enter b : \"))\n",
    "c = int(input(\"enter c : \"))\n",
    "\n",
    "\n",
    "if(a > b) :\n",
    "    if(a > c): \n",
    "        if (b > c ):\n",
    "            print(a , b , c )\n",
    "        else : \n",
    "            print(a  , c , b)\n",
    "    else : \n",
    "        print(c , a , b )\n",
    "else : \n",
    "    if(b > c ):\n",
    "        if(a > c) : \n",
    "            print(b , a , c) \n",
    "        else : \n",
    "            print(b , c , a )\n",
    "    else : \n",
    "        print(c , b , a ) \n",
    "    \n",
    "\n",
    "    "
   ]
  },
  {
   "cell_type": "code",
   "execution_count": 22,
   "metadata": {},
   "outputs": [
    {
     "data": {
      "text/plain": [
       "[4, 10, 24, 15, 16, 64, 32, 53]"
      ]
     },
     "execution_count": 22,
     "metadata": {},
     "output_type": "execute_result"
    }
   ],
   "source": [
    "list = [1 , 2 , 3 , 4 , 10 , 24 , 15 , 16 , 64 , 32 , 53 ] \n",
    "len(list)\n",
    "type(list)\n",
    "list[2] = 10\n",
    "list[:3]\n",
    "list[3:]\n",
    "# list[1:3]"
   ]
  },
  {
   "cell_type": "code",
   "execution_count": 30,
   "metadata": {},
   "outputs": [
    {
     "data": {
      "text/plain": [
       "([12, 2, 10, 4, 10, 24, 15, 16, 64, 32, 53],\n",
       " [1, 2, 10, 4, 10, 24, 15, 16, 64, 32, 53])"
      ]
     },
     "execution_count": 30,
     "metadata": {},
     "output_type": "execute_result"
    }
   ],
   "source": [
    "a = list.copy()\n",
    "a\n",
    "a[0] = 12\n",
    "a , list\n"
   ]
  },
  {
   "cell_type": "code",
   "execution_count": 37,
   "metadata": {},
   "outputs": [
    {
     "data": {
      "text/plain": [
       "11"
      ]
     },
     "execution_count": 37,
     "metadata": {},
     "output_type": "execute_result"
    }
   ],
   "source": [
    "sum(list)\n",
    "max(list)\n",
    "min(list)\n",
    "len(list)"
   ]
  },
  {
   "cell_type": "code",
   "execution_count": 50,
   "metadata": {},
   "outputs": [
    {
     "data": {
      "text/plain": [
       "[12,\n",
       " 2,\n",
       " 'a',\n",
       " 'a',\n",
       " 'a',\n",
       " 10,\n",
       " 4,\n",
       " 10,\n",
       " 24,\n",
       " 15,\n",
       " 16,\n",
       " 64,\n",
       " 32,\n",
       " 53,\n",
       " 2,\n",
       " 5,\n",
       " 6,\n",
       " 2,\n",
       " 5,\n",
       " 6,\n",
       " [2, 5, 6],\n",
       " [2, 5, 6],\n",
       " [2, 5, 6],\n",
       " [2, 5, 6],\n",
       " [2, 5, 6],\n",
       " [2, 5, 6]]"
      ]
     },
     "execution_count": 50,
     "metadata": {},
     "output_type": "execute_result"
    }
   ],
   "source": [
    "a.index(2)\n",
    "a.extend([[2 ,  5 , 6]])\n",
    "# a.insert(2 , 'a')\n",
    "a"
   ]
  },
  {
   "cell_type": "code",
   "execution_count": 62,
   "metadata": {},
   "outputs": [
    {
     "name": "stdout",
     "output_type": "stream",
     "text": [
      "2\n",
      "4\n",
      "6\n",
      "8\n",
      "10\n"
     ]
    }
   ],
   "source": [
    "a = [2 , 4 , 6 , 8, 10 ]\n",
    "\n",
    "for i in a : \n",
    "    print(i)"
   ]
  },
  {
   "cell_type": "code",
   "execution_count": 67,
   "metadata": {},
   "outputs": [
    {
     "name": "stdout",
     "output_type": "stream",
     "text": [
      "ali\n",
      "amin\n",
      "mehdi\n",
      "hossein\n"
     ]
    }
   ],
   "source": [
    "list = [\"ali\" , \"amin\" , \"mehdi\"]\n",
    "list.append(\"hossein\")\n",
    "list\n",
    "for i in list : \n",
    "    print(i)"
   ]
  },
  {
   "cell_type": "code",
   "execution_count": 73,
   "metadata": {},
   "outputs": [
    {
     "name": "stdout",
     "output_type": "stream",
     "text": [
      "4\n",
      "12\n",
      "48\n",
      "240\n",
      "[2, 3, 4, 5]\n"
     ]
    }
   ],
   "source": [
    "a = [2 , 3 ,4 ,5]\n",
    "value = 2 \n",
    "for i in a : \n",
    "    value *= i\n",
    "    print(value)\n",
    "print(a)"
   ]
  },
  {
   "cell_type": "code",
   "execution_count": 79,
   "metadata": {},
   "outputs": [
    {
     "name": "stdout",
     "output_type": "stream",
     "text": [
      "[4, 6, 8, 10]\n"
     ]
    }
   ],
   "source": [
    "a = [2 , 3 ,4 ,5]\n",
    "for i in range(0 , 4) : \n",
    "    a[i]= a[i] * 2 \n",
    "print(a)"
   ]
  },
  {
   "cell_type": "code",
   "execution_count": 83,
   "metadata": {},
   "outputs": [
    {
     "name": "stdout",
     "output_type": "stream",
     "text": [
      "[4, 6, 8, 10]\n"
     ]
    }
   ],
   "source": [
    "a = [2 , 3 , 4 ,5 ]\n",
    "for i in range(len(a)): \n",
    "    a[i] = a[i] * 2 \n",
    "print(a )"
   ]
  },
  {
   "cell_type": "code",
   "execution_count": 86,
   "metadata": {},
   "outputs": [
    {
     "name": "stdout",
     "output_type": "stream",
     "text": [
      "0 4\n",
      "1 6\n",
      "2 8\n",
      "3 10\n"
     ]
    }
   ],
   "source": [
    "for i , j in enumerate(a): \n",
    "    print(i , j)"
   ]
  },
  {
   "cell_type": "code",
   "execution_count": 99,
   "metadata": {},
   "outputs": [
    {
     "name": "stdout",
     "output_type": "stream",
     "text": [
      "1\n",
      "2\n",
      "3\n",
      "4\n",
      "[1, 4, 9, 16]\n"
     ]
    }
   ],
   "source": [
    "a = [ 1 ,2 ,3 ,4 ]\n",
    "\n",
    "for i , j in enumerate(a):\n",
    "   a[i] *= j \n",
    "   print(j)\n",
    "print(a)\n",
    "\n"
   ]
  },
  {
   "cell_type": "code",
   "execution_count": 117,
   "metadata": {},
   "outputs": [
    {
     "data": {
      "text/plain": [
       "[1, 2, 3, 4, 5, 6, 7, 8]"
      ]
     },
     "execution_count": 117,
     "metadata": {},
     "output_type": "execute_result"
    }
   ],
   "source": [
    "a = [1 , 2 , 3 , 4 ]\n",
    "b = [5 , 6 , 7 , 8 ]\n",
    "a + b \n"
   ]
  },
  {
   "cell_type": "code",
   "execution_count": 112,
   "metadata": {},
   "outputs": [
    {
     "data": {
      "text/plain": [
       "[1, 2, 3, 4, 1, 2, 3, 4]"
      ]
     },
     "execution_count": 112,
     "metadata": {},
     "output_type": "execute_result"
    }
   ],
   "source": [
    "a * 2 "
   ]
  },
  {
   "cell_type": "code",
   "execution_count": 114,
   "metadata": {},
   "outputs": [
    {
     "name": "stdout",
     "output_type": "stream",
     "text": [
      "[1, 2, 3, 4]\n"
     ]
    }
   ],
   "source": [
    "if 3 in a : \n",
    "    print(a)"
   ]
  },
  {
   "cell_type": "code",
   "execution_count": 120,
   "metadata": {},
   "outputs": [
    {
     "name": "stdout",
     "output_type": "stream",
     "text": [
      "[1, 2, 3, 4]\n"
     ]
    }
   ],
   "source": [
    "if not 3 in a :\n",
    "    print(b )\n",
    "else : \n",
    "    print(a)"
   ]
  },
  {
   "cell_type": "code",
   "execution_count": 137,
   "metadata": {},
   "outputs": [
    {
     "data": {
      "text/plain": [
       "3"
      ]
     },
     "execution_count": 137,
     "metadata": {},
     "output_type": "execute_result"
    }
   ],
   "source": [
    "tuple = (1 , 2 , 2  , 2 ,3 ,4 )\n",
    "list = ['ali', 'amin', 'mehdi', 'hossein']\n",
    "\n",
    "list.count(\"ali\")\n",
    "tuple.count(2)"
   ]
  },
  {
   "cell_type": "code",
   "execution_count": 140,
   "metadata": {},
   "outputs": [
    {
     "data": {
      "text/plain": [
       "{'salam ': 1, 'b': 2, 'c': 4}"
      ]
     },
     "execution_count": 140,
     "metadata": {},
     "output_type": "execute_result"
    }
   ],
   "source": [
    "a = {\"salam \" : 1 , \"b\" : 2 , \"c\" : 4}\n",
    "a"
   ]
  },
  {
   "cell_type": "code",
   "execution_count": 146,
   "metadata": {},
   "outputs": [
    {
     "data": {
      "text/plain": [
       "dict_values([1, 2, 4])"
      ]
     },
     "execution_count": 146,
     "metadata": {},
     "output_type": "execute_result"
    }
   ],
   "source": [
    "a.keys()\n",
    "a.values()"
   ]
  },
  {
   "cell_type": "code",
   "execution_count": 150,
   "metadata": {},
   "outputs": [
    {
     "data": {
      "text/plain": [
       "1"
      ]
     },
     "execution_count": 150,
     "metadata": {},
     "output_type": "execute_result"
    }
   ],
   "source": [
    "a['salam ']"
   ]
  },
  {
   "cell_type": "code",
   "execution_count": 155,
   "metadata": {},
   "outputs": [],
   "source": [
    "a = {\"salam \" : 1 , \"b\" : 2 , \"c\" : 4}\n",
    "del(a[\"salam \"])"
   ]
  },
  {
   "cell_type": "code",
   "execution_count": 156,
   "metadata": {},
   "outputs": [
    {
     "data": {
      "text/plain": [
       "{'b': 2, 'c': 4}"
      ]
     },
     "execution_count": 156,
     "metadata": {},
     "output_type": "execute_result"
    }
   ],
   "source": [
    "a"
   ]
  },
  {
   "cell_type": "code",
   "execution_count": 159,
   "metadata": {},
   "outputs": [
    {
     "data": {
      "text/plain": [
       "{'a': 1, 'b': 2, 'c': 3}"
      ]
     },
     "execution_count": 159,
     "metadata": {},
     "output_type": "execute_result"
    }
   ],
   "source": [
    "a = {\n",
    "    \"a\" : 1 , \n",
    "    \"b\" : 2 , \n",
    "    \"c\" : 3 \n",
    "}\n",
    "a"
   ]
  },
  {
   "cell_type": "code",
   "execution_count": 161,
   "metadata": {},
   "outputs": [],
   "source": [
    "a.update({\"d\" : 2  , \"f\" : 3 })"
   ]
  },
  {
   "cell_type": "code",
   "execution_count": 167,
   "metadata": {},
   "outputs": [
    {
     "name": "stdout",
     "output_type": "stream",
     "text": [
      "1\n",
      "2\n",
      "3\n",
      "2\n",
      "3\n"
     ]
    }
   ],
   "source": [
    "for i in a.values(): \n",
    "    print(i)"
   ]
  },
  {
   "cell_type": "markdown",
   "metadata": {},
   "source": [
    "# Examples "
   ]
  },
  {
   "cell_type": "code",
   "execution_count": 14,
   "metadata": {},
   "outputs": [
    {
     "name": "stdout",
     "output_type": "stream",
     "text": [
      "*****\n",
      "Correct\n",
      "*a*a*\n",
      "Correct\n",
      "sa*a*\n",
      "Correct\n",
      "sala*\n",
      "Correct\n",
      "salam\n",
      "you won\n"
     ]
    }
   ],
   "source": [
    "string = ['s' , 'a' , 'l' , 'a' , 'm']\n",
    "lifes = 5\n",
    "guesses = []\n",
    "is_finished = False \n",
    "\n",
    "while lifes > 0  and not is_finished:\n",
    "    \n",
    "    is_finished = True \n",
    "    for char in string : \n",
    "        if char in guesses : \n",
    "            print(char , end ='')\n",
    "        else : \n",
    "            print(\"*\" , end=\"\")\n",
    "            is_finished = False \n",
    "        \n",
    "    if is_finished : \n",
    "        break \n",
    "    print()\n",
    "    new_char = input()\n",
    "    if new_char in string : \n",
    "        print(\"Correct\")\n",
    "        guesses.append(new_char)\n",
    "    else : \n",
    "        print(\"wrong!\")\n",
    "        lifes -= 1 \n",
    "if is_finished : \n",
    "    print()\n",
    "    print(\"you won\")\n",
    "else : \n",
    "    print(\"you lost , the string was\" , string) ;"
   ]
  },
  {
   "cell_type": "code",
   "execution_count": 15,
   "metadata": {},
   "outputs": [
    {
     "name": "stdout",
     "output_type": "stream",
     "text": [
      "it's there\n",
      "End \n"
     ]
    }
   ],
   "source": [
    "a = {\n",
    "    \"Hello\" : \"Hello User , How Can I do For You?\", \n",
    "    \"IDK\" : \"Do you want to show you mylist?\"\n",
    "}\n",
    "while True : \n",
    "    i = input(\"enter I : \")\n",
    "    if i == \"-1\": \n",
    "        print(\"End \")\n",
    "        break\n",
    "    if i in a.keys(): \n",
    "        print(\"it's there\")\n",
    "    else : \n",
    "        print(\"Nemidoonam Kojast\")\n",
    "        print(\"MIJHAYE KHODAT BEGI?\")\n",
    "        yesNo = int(input(\"Enter Yes/NO :(1 / 0)\"))\n",
    "        if yesNo == 1 :\n",
    "            answer = input(\"enter Your answer : \")\n",
    "            if answer: \n",
    "                print(\"You want \" , answer)"
   ]
  },
  {
   "cell_type": "code",
   "execution_count": 13,
   "metadata": {},
   "outputs": [
    {
     "data": {
      "text/plain": [
       "17"
      ]
     },
     "execution_count": 13,
     "metadata": {},
     "output_type": "execute_result"
    }
   ],
   "source": [
    "list = [2 , 5 , 10]\n",
    "count = 0 \n",
    "for i in range(0 , len(list)):\n",
    "    count += list[i]\n",
    "count\n"
   ]
  },
  {
   "cell_type": "code",
   "execution_count": 30,
   "metadata": {},
   "outputs": [
    {
     "name": "stdout",
     "output_type": "stream",
     "text": [
      "30\n"
     ]
    }
   ],
   "source": [
    "list = [10 , 0-15 , 20 , 25 , 30 , 35 , 40]\n",
    "for i in range(0 , len(list)): \n",
    "    if list[i] % 15 == 0 and list[i] > 0 : \n",
    "        print(list[i])\n",
    "    else:\n",
    "        continue\n"
   ]
  },
  {
   "cell_type": "code",
   "execution_count": 48,
   "metadata": {},
   "outputs": [
    {
     "name": "stdout",
     "output_type": "stream",
     "text": [
      "-----End-----\n",
      "\n"
     ]
    }
   ],
   "source": [
    "list = []\n",
    "while True : \n",
    "    n = input(\"enter N : \")\n",
    "    if n == '-1': \n",
    "        print(\"-----End-----\")\n",
    "        list.append('')\n",
    "        break\n",
    "    list.append(n)\n",
    "\n",
    "print(max(list))\n",
    "    "
   ]
  },
  {
   "cell_type": "code",
   "execution_count": 82,
   "metadata": {},
   "outputs": [
    {
     "name": "stdout",
     "output_type": "stream",
     "text": [
      "True\n",
      "True\n",
      "True\n"
     ]
    }
   ],
   "source": [
    "list = [2 , 2 , 3 ]\n",
    "for i in range(0 , len(list)):\n",
    "    print(i == i)\n"
   ]
  },
  {
   "cell_type": "code",
   "execution_count": 85,
   "metadata": {},
   "outputs": [
    {
     "name": "stdout",
     "output_type": "stream",
     "text": [
      "amin\n"
     ]
    }
   ],
   "source": []
  },
  {
   "cell_type": "code",
   "execution_count": null,
   "metadata": {},
   "outputs": [],
   "source": []
  }
 ],
 "metadata": {
  "kernelspec": {
   "display_name": "Python 3",
   "language": "python",
   "name": "python3"
  },
  "language_info": {
   "codemirror_mode": {
    "name": "ipython",
    "version": 3
   },
   "file_extension": ".py",
   "mimetype": "text/x-python",
   "name": "python",
   "nbconvert_exporter": "python",
   "pygments_lexer": "ipython3",
   "version": "3.8.10"
  }
 },
 "nbformat": 4,
 "nbformat_minor": 2
}
